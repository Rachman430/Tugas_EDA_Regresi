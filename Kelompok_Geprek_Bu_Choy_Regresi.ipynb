{
 "cells": [
  {
   "cell_type": "markdown",
   "metadata": {
    "id": "AZUnkBMTMQwn"
   },
   "source": [
    "# Dataset Gym_Member_Tracking"
   ]
  },
  {
   "cell_type": "code",
   "execution_count": 2,
   "metadata": {
    "id": "EkTQ7-GNyOGR",
    "tags": []
   },
   "outputs": [],
   "source": [
    "import numpy as np\n",
    "import matplotlib.pyplot as plt\n",
    "import seaborn as sns\n",
    "import pandas as pd"
   ]
  },
  {
   "cell_type": "markdown",
   "metadata": {
    "id": "TKLpQJz__MPF"
   },
   "source": [
    "## 1. Mengimport Dataset"
   ]
  },
  {
   "cell_type": "code",
   "execution_count": 3,
   "metadata": {
    "colab": {
     "base_uri": "https://localhost:8080/",
     "height": 206
    },
    "id": "2jax-zmG9bb7",
    "outputId": "8f26108c-f370-4f7c-c229-40f755f34e27",
    "tags": []
   },
   "outputs": [
    {
     "data": {
      "text/html": [
       "<div>\n",
       "<style scoped>\n",
       "    .dataframe tbody tr th:only-of-type {\n",
       "        vertical-align: middle;\n",
       "    }\n",
       "\n",
       "    .dataframe tbody tr th {\n",
       "        vertical-align: top;\n",
       "    }\n",
       "\n",
       "    .dataframe thead th {\n",
       "        text-align: right;\n",
       "    }\n",
       "</style>\n",
       "<table border=\"1\" class=\"dataframe\">\n",
       "  <thead>\n",
       "    <tr style=\"text-align: right;\">\n",
       "      <th></th>\n",
       "      <th>Age</th>\n",
       "      <th>Session_Duration (hours)</th>\n",
       "      <th>Calories_Burned</th>\n",
       "      <th>Workout_Type</th>\n",
       "      <th>Fat_Percentage</th>\n",
       "      <th>Water_Intake (liters)</th>\n",
       "      <th>Workout_Frequency (days/week)</th>\n",
       "      <th>Experience_Level</th>\n",
       "      <th>BMI</th>\n",
       "    </tr>\n",
       "  </thead>\n",
       "  <tbody>\n",
       "    <tr>\n",
       "      <th>0</th>\n",
       "      <td>56</td>\n",
       "      <td>1.69</td>\n",
       "      <td>1313</td>\n",
       "      <td>Yoga</td>\n",
       "      <td>12.6</td>\n",
       "      <td>3.5</td>\n",
       "      <td>4</td>\n",
       "      <td>3</td>\n",
       "      <td>30.20</td>\n",
       "    </tr>\n",
       "    <tr>\n",
       "      <th>1</th>\n",
       "      <td>46</td>\n",
       "      <td>1.30</td>\n",
       "      <td>883</td>\n",
       "      <td>HIIT</td>\n",
       "      <td>33.9</td>\n",
       "      <td>2.1</td>\n",
       "      <td>4</td>\n",
       "      <td>2</td>\n",
       "      <td>32.00</td>\n",
       "    </tr>\n",
       "    <tr>\n",
       "      <th>2</th>\n",
       "      <td>32</td>\n",
       "      <td>1.11</td>\n",
       "      <td>677</td>\n",
       "      <td>Cardio</td>\n",
       "      <td>33.4</td>\n",
       "      <td>2.3</td>\n",
       "      <td>4</td>\n",
       "      <td>2</td>\n",
       "      <td>24.71</td>\n",
       "    </tr>\n",
       "    <tr>\n",
       "      <th>3</th>\n",
       "      <td>25</td>\n",
       "      <td>0.59</td>\n",
       "      <td>532</td>\n",
       "      <td>Strength</td>\n",
       "      <td>28.8</td>\n",
       "      <td>2.1</td>\n",
       "      <td>3</td>\n",
       "      <td>1</td>\n",
       "      <td>18.41</td>\n",
       "    </tr>\n",
       "    <tr>\n",
       "      <th>4</th>\n",
       "      <td>38</td>\n",
       "      <td>0.64</td>\n",
       "      <td>556</td>\n",
       "      <td>Strength</td>\n",
       "      <td>29.2</td>\n",
       "      <td>2.8</td>\n",
       "      <td>3</td>\n",
       "      <td>1</td>\n",
       "      <td>14.39</td>\n",
       "    </tr>\n",
       "  </tbody>\n",
       "</table>\n",
       "</div>"
      ],
      "text/plain": [
       "   Age  Session_Duration (hours)  Calories_Burned Workout_Type  \\\n",
       "0   56                      1.69             1313         Yoga   \n",
       "1   46                      1.30              883         HIIT   \n",
       "2   32                      1.11              677       Cardio   \n",
       "3   25                      0.59              532     Strength   \n",
       "4   38                      0.64              556     Strength   \n",
       "\n",
       "   Fat_Percentage  Water_Intake (liters)  Workout_Frequency (days/week)  \\\n",
       "0            12.6                    3.5                              4   \n",
       "1            33.9                    2.1                              4   \n",
       "2            33.4                    2.3                              4   \n",
       "3            28.8                    2.1                              3   \n",
       "4            29.2                    2.8                              3   \n",
       "\n",
       "   Experience_Level    BMI  \n",
       "0                 3  30.20  \n",
       "1                 2  32.00  \n",
       "2                 2  24.71  \n",
       "3                 1  18.41  \n",
       "4                 1  14.39  "
      ]
     },
     "execution_count": 3,
     "metadata": {},
     "output_type": "execute_result"
    }
   ],
   "source": [
    "df = pd.read_csv(\"C://Users//Asus//OneDrive//Documents//UPN//Perkuliahan//Semester 3//Analisis Data Eksploratif//Tugas Kelompok//Regresi//gym_members_exercise.csv\")\n",
    "df.head()"
   ]
  },
  {
   "cell_type": "markdown",
   "metadata": {
    "id": "BH8k36vDA1d2"
   },
   "source": [
    "## 2. Mengubah variabel Workout_Type Menjadi Numerik"
   ]
  },
  {
   "cell_type": "code",
   "execution_count": 4,
   "metadata": {
    "colab": {
     "base_uri": "https://localhost:8080/",
     "height": 206
    },
    "id": "XzVDHUs5Mgc3",
    "outputId": "5d1c7a7f-15b6-46dd-b755-a6ede41a2390",
    "tags": []
   },
   "outputs": [
    {
     "data": {
      "text/html": [
       "<div>\n",
       "<style scoped>\n",
       "    .dataframe tbody tr th:only-of-type {\n",
       "        vertical-align: middle;\n",
       "    }\n",
       "\n",
       "    .dataframe tbody tr th {\n",
       "        vertical-align: top;\n",
       "    }\n",
       "\n",
       "    .dataframe thead th {\n",
       "        text-align: right;\n",
       "    }\n",
       "</style>\n",
       "<table border=\"1\" class=\"dataframe\">\n",
       "  <thead>\n",
       "    <tr style=\"text-align: right;\">\n",
       "      <th></th>\n",
       "      <th>Age</th>\n",
       "      <th>Session_Duration (hours)</th>\n",
       "      <th>Calories_Burned</th>\n",
       "      <th>Workout_Type</th>\n",
       "      <th>Fat_Percentage</th>\n",
       "      <th>Water_Intake (liters)</th>\n",
       "      <th>Workout_Frequency (days/week)</th>\n",
       "      <th>Experience_Level</th>\n",
       "      <th>BMI</th>\n",
       "    </tr>\n",
       "  </thead>\n",
       "  <tbody>\n",
       "    <tr>\n",
       "      <th>0</th>\n",
       "      <td>56</td>\n",
       "      <td>1.69</td>\n",
       "      <td>1313</td>\n",
       "      <td>0</td>\n",
       "      <td>12.6</td>\n",
       "      <td>3.5</td>\n",
       "      <td>4</td>\n",
       "      <td>3</td>\n",
       "      <td>30.20</td>\n",
       "    </tr>\n",
       "    <tr>\n",
       "      <th>1</th>\n",
       "      <td>46</td>\n",
       "      <td>1.30</td>\n",
       "      <td>883</td>\n",
       "      <td>2</td>\n",
       "      <td>33.9</td>\n",
       "      <td>2.1</td>\n",
       "      <td>4</td>\n",
       "      <td>2</td>\n",
       "      <td>32.00</td>\n",
       "    </tr>\n",
       "    <tr>\n",
       "      <th>2</th>\n",
       "      <td>32</td>\n",
       "      <td>1.11</td>\n",
       "      <td>677</td>\n",
       "      <td>3</td>\n",
       "      <td>33.4</td>\n",
       "      <td>2.3</td>\n",
       "      <td>4</td>\n",
       "      <td>2</td>\n",
       "      <td>24.71</td>\n",
       "    </tr>\n",
       "    <tr>\n",
       "      <th>3</th>\n",
       "      <td>25</td>\n",
       "      <td>0.59</td>\n",
       "      <td>532</td>\n",
       "      <td>1</td>\n",
       "      <td>28.8</td>\n",
       "      <td>2.1</td>\n",
       "      <td>3</td>\n",
       "      <td>1</td>\n",
       "      <td>18.41</td>\n",
       "    </tr>\n",
       "    <tr>\n",
       "      <th>4</th>\n",
       "      <td>38</td>\n",
       "      <td>0.64</td>\n",
       "      <td>556</td>\n",
       "      <td>1</td>\n",
       "      <td>29.2</td>\n",
       "      <td>2.8</td>\n",
       "      <td>3</td>\n",
       "      <td>1</td>\n",
       "      <td>14.39</td>\n",
       "    </tr>\n",
       "  </tbody>\n",
       "</table>\n",
       "</div>"
      ],
      "text/plain": [
       "   Age  Session_Duration (hours)  Calories_Burned  Workout_Type  \\\n",
       "0   56                      1.69             1313             0   \n",
       "1   46                      1.30              883             2   \n",
       "2   32                      1.11              677             3   \n",
       "3   25                      0.59              532             1   \n",
       "4   38                      0.64              556             1   \n",
       "\n",
       "   Fat_Percentage  Water_Intake (liters)  Workout_Frequency (days/week)  \\\n",
       "0            12.6                    3.5                              4   \n",
       "1            33.9                    2.1                              4   \n",
       "2            33.4                    2.3                              4   \n",
       "3            28.8                    2.1                              3   \n",
       "4            29.2                    2.8                              3   \n",
       "\n",
       "   Experience_Level    BMI  \n",
       "0                 3  30.20  \n",
       "1                 2  32.00  \n",
       "2                 2  24.71  \n",
       "3                 1  18.41  \n",
       "4                 1  14.39  "
      ]
     },
     "execution_count": 4,
     "metadata": {},
     "output_type": "execute_result"
    }
   ],
   "source": [
    "# Ubah Workout_Type menjadi numeric (0 = Yoga, 1 = Strength, 2 = HIIT, 3 = Cardio)\n",
    "workout_mapping = {\n",
    "    'Yoga': 0,\n",
    "    'Strength': 1,\n",
    "    'HIIT': 2,\n",
    "    'Cardio': 3\n",
    "}\n",
    "df['Workout_Type'] = df['Workout_Type'].map(workout_mapping)\n",
    "df.head()"
   ]
  },
  {
   "cell_type": "markdown",
   "metadata": {
    "id": "kG_ijNgUAPmV"
   },
   "source": [
    "## 3. Menentukan Variabel Independen dan Dependennya"
   ]
  },
  {
   "cell_type": "code",
   "execution_count": 5,
   "metadata": {
    "colab": {
     "base_uri": "https://localhost:8080/",
     "height": 206
    },
    "id": "rzlnqr_h6-U-",
    "outputId": "f0744444-efbe-43d9-e86c-a2914ffdd1c4",
    "tags": []
   },
   "outputs": [
    {
     "data": {
      "text/html": [
       "<div>\n",
       "<style scoped>\n",
       "    .dataframe tbody tr th:only-of-type {\n",
       "        vertical-align: middle;\n",
       "    }\n",
       "\n",
       "    .dataframe tbody tr th {\n",
       "        vertical-align: top;\n",
       "    }\n",
       "\n",
       "    .dataframe thead th {\n",
       "        text-align: right;\n",
       "    }\n",
       "</style>\n",
       "<table border=\"1\" class=\"dataframe\">\n",
       "  <thead>\n",
       "    <tr style=\"text-align: right;\">\n",
       "      <th></th>\n",
       "      <th>x1</th>\n",
       "      <th>x2</th>\n",
       "      <th>y</th>\n",
       "      <th>x8</th>\n",
       "      <th>x3</th>\n",
       "      <th>x4</th>\n",
       "      <th>x5</th>\n",
       "      <th>x6</th>\n",
       "      <th>x7</th>\n",
       "    </tr>\n",
       "  </thead>\n",
       "  <tbody>\n",
       "    <tr>\n",
       "      <th>0</th>\n",
       "      <td>56</td>\n",
       "      <td>1.69</td>\n",
       "      <td>1313</td>\n",
       "      <td>0</td>\n",
       "      <td>12.6</td>\n",
       "      <td>3.5</td>\n",
       "      <td>4</td>\n",
       "      <td>3</td>\n",
       "      <td>30.20</td>\n",
       "    </tr>\n",
       "    <tr>\n",
       "      <th>1</th>\n",
       "      <td>46</td>\n",
       "      <td>1.30</td>\n",
       "      <td>883</td>\n",
       "      <td>2</td>\n",
       "      <td>33.9</td>\n",
       "      <td>2.1</td>\n",
       "      <td>4</td>\n",
       "      <td>2</td>\n",
       "      <td>32.00</td>\n",
       "    </tr>\n",
       "    <tr>\n",
       "      <th>2</th>\n",
       "      <td>32</td>\n",
       "      <td>1.11</td>\n",
       "      <td>677</td>\n",
       "      <td>3</td>\n",
       "      <td>33.4</td>\n",
       "      <td>2.3</td>\n",
       "      <td>4</td>\n",
       "      <td>2</td>\n",
       "      <td>24.71</td>\n",
       "    </tr>\n",
       "    <tr>\n",
       "      <th>3</th>\n",
       "      <td>25</td>\n",
       "      <td>0.59</td>\n",
       "      <td>532</td>\n",
       "      <td>1</td>\n",
       "      <td>28.8</td>\n",
       "      <td>2.1</td>\n",
       "      <td>3</td>\n",
       "      <td>1</td>\n",
       "      <td>18.41</td>\n",
       "    </tr>\n",
       "    <tr>\n",
       "      <th>4</th>\n",
       "      <td>38</td>\n",
       "      <td>0.64</td>\n",
       "      <td>556</td>\n",
       "      <td>1</td>\n",
       "      <td>29.2</td>\n",
       "      <td>2.8</td>\n",
       "      <td>3</td>\n",
       "      <td>1</td>\n",
       "      <td>14.39</td>\n",
       "    </tr>\n",
       "  </tbody>\n",
       "</table>\n",
       "</div>"
      ],
      "text/plain": [
       "   x1    x2     y  x8    x3   x4  x5  x6     x7\n",
       "0  56  1.69  1313   0  12.6  3.5   4   3  30.20\n",
       "1  46  1.30   883   2  33.9  2.1   4   2  32.00\n",
       "2  32  1.11   677   3  33.4  2.3   4   2  24.71\n",
       "3  25  0.59   532   1  28.8  2.1   3   1  18.41\n",
       "4  38  0.64   556   1  29.2  2.8   3   1  14.39"
      ]
     },
     "execution_count": 5,
     "metadata": {},
     "output_type": "execute_result"
    }
   ],
   "source": [
    "# Mengganti nama Variabel\n",
    "df.rename(columns={\"Age\":\"x1\", \"Session_Duration (hours)\" : \"x2\", \"Fat_Percentage\" : \"x3\", \"Water_Intake (liters)\" : \"x4\", \"Workout_Frequency (days/week)\" : \"x5\", \"Experience_Level\" : \"x6\", \"BMI\" : \"x7\", \"Workout_Type\" : \"x8\",  \"Calories_Burned\" : \"y\"}, inplace=True)\n",
    "df.head()"
   ]
  },
  {
   "cell_type": "markdown",
   "metadata": {
    "id": "eaT5nNbqAcqj"
   },
   "source": [
    "## 4. Mengetahui Seberapa Kuat Hubungan Variabel Dependen dan Independen Menggunakan Metode Korelasi"
   ]
  },
  {
   "cell_type": "code",
   "execution_count": 6,
   "metadata": {
    "colab": {
     "base_uri": "https://localhost:8080/"
    },
    "id": "H5lkRfkZMxS4",
    "outputId": "5a005548-2056-4550-936b-d0bb54b2f043",
    "tags": []
   },
   "outputs": [
    {
     "name": "stdout",
     "output_type": "stream",
     "text": [
      "Koefisien Pearson: 0.90814\n"
     ]
    }
   ],
   "source": [
    "# Menghitung nilai korelasi Pearson\n",
    "from scipy.stats import pearsonr\n",
    "\n",
    "# Convert dataframe into series\n",
    "list1 = df['x2']\n",
    "list2 = df['y']\n",
    "corr, _ = pearsonr(list1, list2)\n",
    "print('Koefisien Pearson: %.5f' % corr)"
   ]
  },
  {
   "cell_type": "code",
   "execution_count": 7,
   "metadata": {
    "colab": {
     "base_uri": "https://localhost:8080/"
    },
    "id": "XX6z4JrJOKbt",
    "outputId": "89fed866-1e44-499c-d243-8b0cf37daa38",
    "tags": []
   },
   "outputs": [
    {
     "data": {
      "text/plain": [
       "SignificanceResult(statistic=-0.01885888961561097, pvalue=0.5568273764671917)"
      ]
     },
     "execution_count": 7,
     "metadata": {},
     "output_type": "execute_result"
    }
   ],
   "source": [
    "# Menghitung Korelasi Biserial Poin Desain Mobil VS Harga Jual Mobil\n",
    "import scipy.stats as stats\n",
    "stats.pointbiserialr(df['x8'], df['y'])"
   ]
  },
  {
   "cell_type": "code",
   "execution_count": 8,
   "metadata": {
    "colab": {
     "base_uri": "https://localhost:8080/",
     "height": 853
    },
    "id": "YHQAcwIjMoZK",
    "outputId": "90b17d66-e92a-40e3-83c3-3028b65dad75",
    "tags": []
   },
   "outputs": [
    {
     "data": {
      "text/plain": [
       "<Axes: >"
      ]
     },
     "execution_count": 8,
     "metadata": {},
     "output_type": "execute_result"
    },
    {
     "data": {
      "image/png": "[encoded data removed]",
      "text/plain": [
       "<Figure size 2000x1000 with 2 Axes>"
      ]
     },
     "metadata": {},
     "output_type": "display_data"
    }
   ],
   "source": [
    "#plotting heatmap for overall data set\n",
    "corr= df.corr()\n",
    "plt.figure(figsize=(20, 10))\n",
    "sns.heatmap(corr,annot=True)"
   ]
  },
  {
   "cell_type": "markdown",
   "metadata": {
    "id": "lrhL40NOAgiP"
   },
   "source": [
    "## 5. Membentuk Model Regresi Dummy"
   ]
  },
  {
   "cell_type": "code",
   "execution_count": 9,
   "metadata": {
    "colab": {
     "base_uri": "https://localhost:8080/"
    },
    "id": "n8FduL1XOpLl",
    "outputId": "1ee9a9e6-5386-410a-e1a4-4c14b7b16cef",
    "tags": []
   },
   "outputs": [
    {
     "name": "stdout",
     "output_type": "stream",
     "text": [
      "                            OLS Regression Results                            \n",
      "==============================================================================\n",
      "Dep. Variable:                      y   R-squared:                       0.859\n",
      "Model:                            OLS   Adj. R-squared:                  0.858\n",
      "Method:                 Least Squares   F-statistic:                     588.2\n",
      "Date:                Sat, 23 Nov 2024   Prob (F-statistic):               0.00\n",
      "Time:                        21:39:23   Log-Likelihood:                -5882.3\n",
      "No. Observations:                 973   AIC:                         1.179e+04\n",
      "Df Residuals:                     962   BIC:                         1.184e+04\n",
      "Df Model:                          10                                         \n",
      "Covariance Type:            nonrobust                                         \n",
      "==============================================================================\n",
      "                 coef    std err          t      P>|t|      [0.025      0.975]\n",
      "------------------------------------------------------------------------------\n",
      "Intercept     93.6271     36.765      2.547      0.011      21.478     165.776\n",
      "x1            -3.1397      0.272    -11.556      0.000      -3.673      -2.607\n",
      "x2           703.9005     15.180     46.371      0.000     674.112     733.690\n",
      "x3            -2.8654      0.839     -3.416      0.001      -4.512      -1.219\n",
      "x4            36.9325      6.967      5.301      0.000      23.261      50.604\n",
      "x5            -3.0633      6.620     -0.463      0.644     -16.054       9.928\n",
      "x6           -16.5781     10.229     -1.621      0.105     -36.652       3.496\n",
      "x7             1.6053      0.509      3.153      0.002       0.606       2.604\n",
      "x8_0          18.1988     10.687      1.703      0.089      -2.773      39.170\n",
      "x8_1          29.9895     10.975      2.732      0.006       8.451      51.528\n",
      "x8_2          20.8621     10.947      1.906      0.057      -0.620      42.345\n",
      "x8_3          24.5767     10.725      2.291      0.022       3.529      45.624\n",
      "==============================================================================\n",
      "Omnibus:                        2.948   Durbin-Watson:                   2.124\n",
      "Prob(Omnibus):                  0.229   Jarque-Bera (JB):                2.859\n",
      "Skew:                           0.091   Prob(JB):                        0.239\n",
      "Kurtosis:                       2.806   Cond. No.                     3.05e+17\n",
      "==============================================================================\n",
      "\n",
      "Notes:\n",
      "[1] Standard Errors assume that the covariance matrix of the errors is correctly specified.\n",
      "[2] The smallest eigenvalue is  3e-29. This might indicate that there are\n",
      "strong multicollinearity problems or that the design matrix is singular.\n"
     ]
    }
   ],
   "source": [
    "# Memodelkan dengan Regresi Dummy\n",
    "import numpy as np\n",
    "import statsmodels.formula.api as smf\n",
    "df_with_dummies = pd.get_dummies(data=df, columns=['x8'])\n",
    "x = df_with_dummies[['x1', 'x2', 'x3', 'x4', 'x5', 'x6', 'x7','x8_0', 'x8_1', 'x8_2', 'x8_3']]\n",
    "y = df_with_dummies['y']\n",
    "reg_mod = 'y ~ x1 + x2 + x3 + x4 + x5 + x6 + x7 + x8_0 + x8_1 + x8_2 + x8_3'\n",
    "model = smf.ols(formula=reg_mod, data=df_with_dummies).fit()\n",
    "print_model = model.summary()\n",
    "print(print_model)"
   ]
  },
  {
   "cell_type": "code",
   "execution_count": 10,
   "metadata": {
    "colab": {
     "base_uri": "https://localhost:8080/"
    },
    "id": "njvKALFuQdqR",
    "outputId": "1c27154d-8736-45a1-bcbc-1b11a75bb599",
    "tags": []
   },
   "outputs": [
    {
     "name": "stdout",
     "output_type": "stream",
     "text": [
      "0    1205.247245\n",
      "1     871.514848\n",
      "2     782.560512\n",
      "3     459.245306\n",
      "4     471.877717\n",
      "dtype: float64\n"
     ]
    }
   ],
   "source": [
    "# Nilai prediksi Y Topi\n",
    "prediksi = model.predict(x)\n",
    "print(prediksi.head())"
   ]
  },
  {
   "cell_type": "code",
   "execution_count": 11,
   "metadata": {
    "colab": {
     "base_uri": "https://localhost:8080/"
    },
    "id": "aeMQWAU8TkuV",
    "outputId": "85b61926-f676-423f-bbb4-41fad57633af",
    "tags": []
   },
   "outputs": [
    {
     "name": "stdout",
     "output_type": "stream",
     "text": [
      "0    107.752755\n",
      "1     11.485152\n",
      "2   -105.560512\n",
      "3     72.754694\n",
      "4     84.122283\n",
      "dtype: float64\n"
     ]
    }
   ],
   "source": [
    "# Nilai residual\n",
    "residual = model.resid\n",
    "print(residual.head())"
   ]
  },
  {
   "cell_type": "markdown",
   "metadata": {
    "id": "umK_1fWsAnNT"
   },
   "source": [
    "## 6. Melakukan Uji F"
   ]
  },
  {
   "cell_type": "code",
   "execution_count": 12,
   "metadata": {
    "colab": {
     "base_uri": "https://localhost:8080/"
    },
    "id": "QeZbehpyUgN6",
    "outputId": "3c5725c1-0734-4f14-9e16-f788bd3da717",
    "tags": []
   },
   "outputs": [
    {
     "name": "stdout",
     "output_type": "stream",
     "text": [
      "Hasil dari F tabel adalah 2.019051729264118\n",
      "Sehingga H0 ditolak yang artinya minimal ada satu variabel independen yang berpengaruh terhadap variabel dependennya.\n"
     ]
    }
   ],
   "source": [
    "# Melakukan Uji F\n",
    "import scipy.stats\n",
    "alpha = 0.05\n",
    "df1 = 7 # Banyak variabel - 1\n",
    "df2 = 965 # Banyak sampel - Banyak variabel\n",
    "F_tabel = stats.f.ppf(1 - alpha, df1, df2)\n",
    "print('Hasil dari F tabel adalah', F_tabel)\n",
    "\n",
    "# Keputusan\n",
    "F_statistic = model.fvalue\n",
    "if F_statistic > F_tabel:\n",
    "  print(\"Sehingga H0 ditolak yang artinya minimal ada satu variabel independen yang berpengaruh terhadap variabel dependennya.\")\n",
    "else:\n",
    "  print(\"Sehingga H0 diterima yang artinya tidak ada satupun variabel independen yang berpengaruh terhadap variabel dependennya.\")"
   ]
  },
  {
   "cell_type": "markdown",
   "metadata": {
    "id": "MK0iMu5fBOA4"
   },
   "source": [
    "## 7. Mendapatkan Nilai R-Squared"
   ]
  },
  {
   "cell_type": "code",
   "execution_count": 13,
   "metadata": {
    "colab": {
     "base_uri": "https://localhost:8080/"
    },
    "id": "yN0M5YVQBM-b",
    "outputId": "c8d2b41a-5b4c-4a3c-afcc-98fc5c18d4e6",
    "tags": []
   },
   "outputs": [
    {
     "name": "stdout",
     "output_type": "stream",
     "text": [
      "\n",
      "Nilai R-Squared Adjusted yang didapatkan dalam tabel model regresi dummy di atas adalah 0.858,\n",
      "sehingga dapat disimpulkan sebesar 85,8% Age, Session_Duration (hours),\tWorkout_Type,\tFat_Percentage,\tWater_Intake (liters),Workout_Frequency (days/week),Experience_Level, dan\tBMI  memengaruhi Calories_Burned.\n",
      "Sisanya 14.2% dipengaruhi oleh variabel lainnya yang tidak diketahui.\n",
      "\n"
     ]
    }
   ],
   "source": [
    "# Nilai R-Squared\n",
    "\n",
    "r_squared = \"\"\"\n",
    "Nilai R-Squared Adjusted yang didapatkan dalam tabel model regresi dummy di atas adalah 0.858,\n",
    "sehingga dapat disimpulkan sebesar 85,8% Age, Session_Duration (hours),\tWorkout_Type,\tFat_Percentage,\tWater_Intake (liters),Workout_Frequency (days/week),Experience_Level, dan\tBMI  memengaruhi Calories_Burned.\n",
    "Sisanya 14.2% dipengaruhi oleh variabel lainnya yang tidak diketahui.\n",
    "\"\"\"\n",
    "print(r_squared)"
   ]
  },
  {
   "cell_type": "markdown",
   "metadata": {
    "id": "wDvS1u_U-aKF"
   },
   "source": [
    "## 8. Melakukan Uji T"
   ]
  },
  {
   "cell_type": "code",
   "execution_count": 61,
   "metadata": {
    "colab": {
     "base_uri": "https://localhost:8080/"
    },
    "id": "vFvXeTkoEtLD",
    "outputId": "254a8801-42a9-4b45-bae6-9a99c8ba28dc",
    "tags": []
   },
   "outputs": [
    {
     "name": "stdout",
     "output_type": "stream",
     "text": [
      "Hasil dari T tabel adalah 1.962425330494157\n",
      "\n",
      "Uji Hipotesis untuk Age:\n",
      "Nilai dari T hitung Age adalah -11.556086545834265\n",
      "Sehingga H0 diterima yang artinya variabel Age tidak berpengaruh signifikan terhadap variabel Calories_Burned.\n",
      "\n",
      "Uji Hipotesis untuk Workout_Type_Cardio:\n",
      "Nilai dari T hitung Workout_Type_Cardio adalah 2.2914614477429454\n",
      "Sehingga H0 ditolak yang artinya variabel Workout_Type_Cardio berpengaruh signifikan terhadap variabel Calories_Burned.\n"
     ]
    }
   ],
   "source": [
    "# Menggunakan scipy untuk menguji hipotesis Uji T\n",
    "from scipy import stats\n",
    "import statsmodels.api as sm\n",
    "\n",
    "alpha = 0.05\n",
    "df = 965 #Banyak sampel - Banyak variabel\n",
    "T_tabel = stats.t.ppf(1-alpha/2, df)\n",
    "print('Hasil dari T tabel adalah', T_tabel)\n",
    "\n",
    "# Keputusan Age\n",
    "print(\"\\nUji Hipotesis untuk Age:\")\n",
    "T_hitung_x1 = model.tvalues['x1']\n",
    "if T_hitung_x1 > T_tabel:\n",
    "    print(\"Nilai dari T hitung Age adalah\", T_hitung_x1)\n",
    "    print(\"Sehingga H0 ditolak yang artinya variabel Age berpengaruh signifikan terhadap variabel Calories_Burned.\")\n",
    "else:\n",
    "    print(\"Nilai dari T hitung Age adalah\", T_hitung_x1)\n",
    "    print(\"Sehingga H0 diterima yang artinya variabel Age tidak berpengaruh signifikan terhadap variabel Calories_Burned.\")\n",
    "\n",
    "# Keputusan Workout_Type_Cardio\n",
    "print(\"\\nUji Hipotesis untuk Workout_Type_Cardio:\")\n",
    "T_hitung_x2 = model.tvalues['x8_3']\n",
    "if T_hitung_x2 > T_tabel:\n",
    "    print(\"Nilai dari T hitung Workout_Type_Cardio adalah\", T_hitung_x2)\n",
    "    print(\"Sehingga H0 ditolak yang artinya variabel Workout_Type_Cardio berpengaruh signifikan terhadap variabel Calories_Burned.\")\n",
    "else:\n",
    "    print(\"Nilai dari T hitung Workout_Type_Cardio adalah\", T_hitung_x2)\n",
    "    print(\"Sehingga H0 diterima yang artinya variabel Workout_Type_Cardio tidak berpengaruh signifikan terhadap variabel Calories_Burned.\")"
   ]
  },
  {
   "cell_type": "markdown",
   "metadata": {},
   "source": [
    "## 9. Melakukan Uji Z"
   ]
  },
  {
   "cell_type": "code",
   "execution_count": 39,
   "metadata": {
    "tags": []
   },
   "outputs": [
    {
     "name": "stdout",
     "output_type": "stream",
     "text": [
      "Hasil dari Z tabel adalah 1.959963984540054\n",
      "\n",
      "Uji Hipotesis untuk Age:\n",
      "Nilai dari Z hitung Age adalah -11.556086545834265\n",
      "Sehingga H0 ditolak yang artinya variabel Age berpengaruh signifikan terhadap variabel Calories_Burned.\n",
      "\n",
      "Uji Hipotesis untuk Workout_Type_Cardio:\n",
      "Nilai dari Z hitung Workout_Type_Cardio adalah 2.2914614477429454\n",
      "Sehingga H0 ditolak yang artinya variabel Workout_Type_Cardio berpengaruh signifikan terhadap variabel Calories_Burned.\n"
     ]
    }
   ],
   "source": [
    "# Menggunakan scipy untuk menguji hipotesis Uji T\n",
    "from scipy import stats\n",
    "import statsmodels.api as sm\n",
    "\n",
    "sample_size = 965  # Jumlah sampel\n",
    "alpha = 0.05\n",
    "Z_tabel = stats.norm.ppf(1-alpha/2)\n",
    "print('Hasil dari Z tabel adalah', Z_tabel)\n",
    "\n",
    "# Menghitung statistik untuk Age\n",
    "sample_mean_age = model.params['x1']  # Mean dari koefisien x1\n",
    "std_error_age = model.bse['x1']  # Standard error dari x1\n",
    "population_mean_age = 0  # Nilai hipotesis nol (biasanya 0 untuk uji signifikansi)\n",
    "population_std_age = std_error_age * np.sqrt(sample_size)\n",
    "\n",
    "Z_hitung_age = (sample_mean_age - population_mean_age) / (std_error_age)\n",
    "\n",
    "# Keputusan untuk Age\n",
    "print(\"\\nUji Hipotesis untuk Age:\")\n",
    "print(\"Nilai dari Z hitung Age adalah\", Z_hitung_age)\n",
    "if abs(Z_hitung_age) > Z_tabel:\n",
    "    print(\"Sehingga H0 ditolak yang artinya variabel Age berpengaruh signifikan terhadap variabel Calories_Burned.\")\n",
    "else:\n",
    "    print(\"Sehingga H0 diterima yang artinya variabel Age tidak berpengaruh signifikan terhadap variabel Calories_Burned.\")\n",
    "\n",
    "# Menghitung statistik untuk Workout\n",
    "# Data untuk Workout_Type_Cardio (x8_3)\n",
    "sample_mean_workout = model.params['x8_3']  # Mean dari koefisien x8_3\n",
    "std_error_workout = model.bse['x8_3']  # Standard error dari x8_3\n",
    "population_mean_workout = 0  # Nilai hipotesis nol\n",
    "population_std_workout = std_error_workout * np.sqrt(sample_size)\n",
    "\n",
    "Z_hitung_workout = (sample_mean_workout - population_mean_workout) / (std_error_workout)\n",
    "\n",
    "# Keputusan untuk Workout_Type_Cardio\n",
    "print(\"\\nUji Hipotesis untuk Workout_Type_Cardio:\")\n",
    "print(\"Nilai dari Z hitung Workout_Type_Cardio adalah\", Z_hitung_workout)\n",
    "if abs(Z_hitung_workout) > Z_tabel:\n",
    "    print(\"Sehingga H0 ditolak yang artinya variabel Workout_Type_Cardio berpengaruh signifikan terhadap variabel Calories_Burned.\")\n",
    "else:\n",
    "    print(\"Sehingga H0 diterima yang artinya variabel Workout_Type_Cardio tidak berpengaruh signifikan terhadap variabel Calories_Burned.\")"
   ]
  },
  {
   "cell_type": "markdown",
   "metadata": {
    "id": "97YfETClH9xk"
   },
   "source": [
    "## Uji Asumsi Regresi"
   ]
  },
  {
   "cell_type": "code",
   "execution_count": 16,
   "metadata": {
    "colab": {
     "base_uri": "https://localhost:8080/",
     "height": 449
    },
    "id": "XOSwnBW-H78M",
    "outputId": "a1ed2aed-5a71-4477-b5cc-e667aa240684",
    "tags": []
   },
   "outputs": [
    {
     "data": {
      "image/png": "[encoded data removed]",
      "text/plain": [
       "<Figure size 640x480 with 1 Axes>"
      ]
     },
     "metadata": {},
     "output_type": "display_data"
    }
   ],
   "source": [
    "# Menggambar Plot QQ menggunakan package statmodels\n",
    "import matplotlib.pyplot as plt\n",
    "import scipy.stats as stats\n",
    "fig = sm.qqplot(residual, stats.t, fit=True, line=\"45\")\n",
    "plt.show()"
   ]
  },
  {
   "cell_type": "code",
   "execution_count": 17,
   "metadata": {
    "colab": {
     "base_uri": "https://localhost:8080/",
     "height": 449
    },
    "id": "qM0xqP2FfR8Z",
    "outputId": "d265b6ed-66e7-48b0-8ae6-a245bed52cc6",
    "tags": []
   },
   "outputs": [
    {
     "data": {
      "image/png": "[encoded data removed]",
      "text/plain": [
       "<Figure size 640x480 with 1 Axes>"
      ]
     },
     "metadata": {},
     "output_type": "display_data"
    }
   ],
   "source": [
    "# Plot memeriksa asumsi residual tidak terjadi autokorelasi\n",
    "urutan_pengamatan = pd.Series(range(len(residual)))\n",
    "plt.scatter(urutan_pengamatan, residual);\n",
    "plt.axhline(0, color='red')\n",
    "plt.xlabel('data urutan');\n",
    "plt.ylabel('Residual');\n",
    "plt.xlim([1,21]);"
   ]
  },
  {
   "cell_type": "code",
   "execution_count": 18,
   "metadata": {
    "colab": {
     "base_uri": "https://localhost:8080/",
     "height": 449
    },
    "id": "nexoUOdDfZts",
    "outputId": "56f0fb72-67bd-49ad-8702-6827dc844e70",
    "tags": []
   },
   "outputs": [
    {
     "data": {
      "image/png": "[encoded data removed]",
      "text/plain": [
       "<Figure size 640x480 with 1 Axes>"
      ]
     },
     "metadata": {},
     "output_type": "display_data"
    }
   ],
   "source": [
    "# Memeriksa asumsi residual tidak terjadi heteroskedastisitas\n",
    "# Plot memeriksa asumsi residual tidak terjadi heteroskedastisitas\n",
    "influence = model.get_influence()\n",
    "\n",
    "# Menentukan standardized residualnya\n",
    "std_residual = influence.resid_studentized_internal\n",
    "plt.scatter(prediksi, std_residual);\n",
    "plt.axhline(0, color='red')\n",
    "plt.xlabel('prediksi');\n",
    "plt.ylabel('standardized residual');\n",
    "plt.xlim([2000,25]);"
   ]
  },
  {
   "cell_type": "markdown",
   "metadata": {
    "id": "OsAztbnixPuc"
   },
   "source": [
    "## 1. Memeriksa Asumsi Residual Berdistribusi Normal"
   ]
  },
  {
   "cell_type": "code",
   "execution_count": 19,
   "metadata": {
    "colab": {
     "base_uri": "https://localhost:8080/"
    },
    "id": "2T6Ee434IFp7",
    "outputId": "4a71ec88-4bd0-4230-a454-2a80909c499c",
    "tags": []
   },
   "outputs": [
    {
     "data": {
      "text/plain": [
       "[('Jarque-Bera', 2.8587143673401507),\n",
       " ('Chi^2 two-tail prob.', 0.23946280338022438),\n",
       " ('Skew', 0.09076922873042013),\n",
       " ('Kurtosis', 2.8062042720728755)]"
      ]
     },
     "execution_count": 19,
     "metadata": {},
     "output_type": "execute_result"
    }
   ],
   "source": [
    "# Pengujian Jarque Bera untuk memeriksa asumsi residual\n",
    "from statsmodels.compat import lzip\n",
    "import statsmodels.formula.api as smf\n",
    "import statsmodels.stats.api as sms\n",
    "name = [\"Jarque-Bera\", \"Chi^2 two-tail prob.\", \"Skew\", \"Kurtosis\"]\n",
    "test = sms.jarque_bera(model.resid)\n",
    "lzip(name, test)"
   ]
  },
  {
   "cell_type": "code",
   "execution_count": 62,
   "metadata": {
    "colab": {
     "base_uri": "https://localhost:8080/"
    },
    "id": "q8Oa_YhWYOmq",
    "outputId": "191ed336-fbcc-45cd-d60d-d22d5f842170",
    "tags": []
   },
   "outputs": [
    {
     "name": "stdout",
     "output_type": "stream",
     "text": [
      "Nilai dari Tabel Chi-Square adalah 15.50731305586545\n",
      "Nilai dari Jarque-Bera adalah 2.8587143673402005\n",
      "Sehingga H0 diterima yang artinya residual memenuhi asumsi berdistribusi normal.\n"
     ]
    }
   ],
   "source": [
    "# Memeriksa asumsi residual berdistribusi normal\n",
    "\n",
    "alpha = 0.05\n",
    "df = 8\n",
    "Chi_Square_tabel = stats.chi2.ppf(1 - alpha, df)\n",
    "print(\"Nilai dari Tabel Chi-Square adalah\", Chi_Square_tabel)\n",
    "\n",
    "# Keputusan\n",
    "JB = 2.8587143673402005\n",
    "if JB > Chi_Square_tabel:\n",
    "    print(\"Nilai dari Jarque-Bera adalah\", JB)\n",
    "    print(\"Sehingga H0 ditolak yang artinya tidak memenuhi asumsi berdistribusi normal.\")\n",
    "else:\n",
    "    print(\"Nilai dari Jarque-Bera adalah\", JB)\n",
    "    print(\"Sehingga H0 diterima yang artinya residual memenuhi asumsi berdistribusi normal.\")"
   ]
  },
  {
   "cell_type": "markdown",
   "metadata": {
    "id": "uwbiUBK2xYb7"
   },
   "source": [
    "## 2. Memeriksa Asumsi Residual Tidak Terjadi Autokorelasi"
   ]
  },
  {
   "cell_type": "code",
   "execution_count": 21,
   "metadata": {
    "colab": {
     "base_uri": "https://localhost:8080/"
    },
    "id": "XXID2sw5XpWI",
    "outputId": "5d43f626-7fc9-4d20-cb82-5eca9caaeeef",
    "tags": []
   },
   "outputs": [
    {
     "name": "stdout",
     "output_type": "stream",
     "text": [
      "Durbin-Watson: 2.1242144917039325\n"
     ]
    }
   ],
   "source": [
    "# Pengujian Durbin Watson\n",
    "from statsmodels.stats.stattools import durbin_watson\n",
    "dw = durbin_watson(model.resid)\n",
    "print(f\"Durbin-Watson: {dw}\")"
   ]
  },
  {
   "cell_type": "code",
   "execution_count": 22,
   "metadata": {
    "colab": {
     "base_uri": "https://localhost:8080/"
    },
    "id": "pwZ7bNsUgVdk",
    "outputId": "6c0abae5-8d02-40cf-fff5-2cfc81048ca5",
    "tags": []
   },
   "outputs": [
    {
     "name": "stdout",
     "output_type": "stream",
     "text": [
      "H0 gagal ditolak yang artinya tidak terjadi autokorelasi.\n"
     ]
    }
   ],
   "source": [
    "# Memeriksa asumsi residual tidak terjadi autokorelasi\n",
    "\n",
    "dw = 2.1242144917039334\n",
    "n = 973\n",
    "k = 8\n",
    "\n",
    "# Dengan melihat nilai batas bawah (dl) dan batas atas (du) untuk sampel sebanyak 40 dan variabel sebanyak 3 dalam tabel Durbin Watson,\n",
    "# didapatkan nilai dl = 1,39083 dan du = 1,59999.\n",
    "dl = 1.87854\n",
    "du = 1.90823\n",
    "\n",
    "# Memeriksa autokorelasi\n",
    "if dw < dl:\n",
    "    print(\"H0 ditolak yang artinya terjadi autokorelasi.\")\n",
    "elif dw > du:\n",
    "    print(\"H0 gagal ditolak yang artinya tidak terjadi autokorelasi.\")\n",
    "elif dl <= dw <= du:\n",
    "    print(\"Tidak dapat menarik kesimpulan dengan metode Durbin-Watson bahwa residual terjadi autokorelasi atau tidak\")\n",
    "else:\n",
    "    print(\"Hasil uji tidak konklusif.\")"
   ]
  },
  {
   "cell_type": "markdown",
   "metadata": {
    "id": "EfZ8CFbhxi3v"
   },
   "source": [
    "## 3. Memeriksa Asusmsi Residual Tidak Terjadi Heteroskedastisitas"
   ]
  },
  {
   "cell_type": "code",
   "execution_count": 23,
   "metadata": {
    "colab": {
     "base_uri": "https://localhost:8080/"
    },
    "id": "OmKx3QZNaUYO",
    "outputId": "f82def44-9994-4e38-d7c4-91e4730adbce",
    "tags": []
   },
   "outputs": [
    {
     "data": {
      "text/plain": [
       "[('Lagrange multiplier statistic', 167.98072631445518),\n",
       " ('p-value', 3.0707060082507404e-30),\n",
       " ('f-value', 20.073737859055136),\n",
       " ('f p-value', 5.41928118027565e-34)]"
      ]
     },
     "execution_count": 23,
     "metadata": {},
     "output_type": "execute_result"
    }
   ],
   "source": [
    "# Pengujian Breush-Pagan\n",
    "from statsmodels.compat import lzip\n",
    "import statsmodels.formula.api as smf\n",
    "\n",
    "names = ['Lagrange multiplier statistic', 'p-value', 'f-value', 'f p-value']\n",
    "test = sms.het_breuschpagan(model.resid, model.model.exog)\n",
    "lzip(names, test)"
   ]
  },
  {
   "cell_type": "code",
   "execution_count": 24,
   "metadata": {
    "colab": {
     "base_uri": "https://localhost:8080/"
    },
    "id": "z3ZtY3JKaXw9",
    "outputId": "766c80e2-8075-488b-f9a3-d40edc89e022",
    "tags": []
   },
   "outputs": [
    {
     "name": "stdout",
     "output_type": "stream",
     "text": [
      "Nilai dari Tabel Chi-Square adalah 15.50731305586545\n",
      "Sehingga  H0 ditolak yang artinya asumsi residual terjadi heteroskedastisitas.\n"
     ]
    }
   ],
   "source": [
    "# Memeriksa asumsi residual terjadi heteroskedastisitas\n",
    "\n",
    "BP = 167.98072631445538\n",
    "alpha = 0.05\n",
    "df = 8\n",
    "Chi_Square_tabel = stats.chi2.ppf(1 - alpha, df)\n",
    "print(\"Nilai dari Tabel Chi-Square adalah\", Chi_Square_tabel)\n",
    "\n",
    "# Keputusan\n",
    "if BP > Chi_Square_tabel:\n",
    "    print(\"Sehingga  H0 ditolak yang artinya asumsi residual terjadi heteroskedastisitas.\")\n",
    "else:\n",
    "    print(\"Sehingga H0 diterima yang artinya asumsi residual tidak terjadi heteroskedastisitas.\")"
   ]
  },
  {
   "cell_type": "markdown",
   "metadata": {
    "id": "BaqWybfU17pY"
   },
   "source": [
    "## 4. Memeriksa Asumsi Residual Tidak Terjadi Multikolinearitas"
   ]
  },
  {
   "cell_type": "code",
   "execution_count": 9,
   "metadata": {
    "colab": {
     "base_uri": "https://localhost:8080/"
    },
    "id": "b8m1pczNf2oT",
    "outputId": "39c96de1-b2b3-4710-dfe4-4e1252b357cc",
    "tags": []
   },
   "outputs": [
    {
     "name": "stdout",
     "output_type": "stream",
     "text": [
      "  feature        VIF\n",
      "0      x1  10.697016\n",
      "1      x2  32.456612\n",
      "2      x3  12.545087\n",
      "3      x4  20.578837\n",
      "4      x5  45.914307\n",
      "5      x6  36.601443\n",
      "6      x7  14.858934\n",
      "7      x8   2.788836\n",
      "\n",
      "Berdasarkan hasil output diatas, Terdapat beberapa nilai VIF variabel independen lebih dari 10. hal ini mengindikasi bahwa variabel independen terjadi multikolinearitas.\n",
      "\n"
     ]
    }
   ],
   "source": [
    "from statsmodels.stats.outliers_influence import variance_inflation_factor\n",
    "\n",
    "# Himpunan variabel Independen\n",
    "X = df[['x1', 'x2', 'x3', 'x4', 'x5', 'x6', 'x7', 'x8']]\n",
    "\n",
    "# VIF DataFrame\n",
    "vif_data = pd.DataFrame()\n",
    "vif_data[\"feature\"] = X.columns\n",
    "\n",
    "# Menghitung VIF untuk setiap variabel\n",
    "vif_data[\"VIF\"] = [variance_inflation_factor(X.values, i) for i in range(len(X.columns))]\n",
    "print(vif_data)\n",
    "\n",
    "kesimpulan = \"\"\"\n",
    "Berdasarkan hasil output diatas, Terdapat beberapa nilai VIF variabel independen lebih dari 10. hal ini mengindikasi bahwa variabel independen terjadi multikolinearitas.\n",
    "\"\"\"\n",
    "print(kesimpulan)"
   ]
  },
  {
   "cell_type": "code",
   "execution_count": null,
   "metadata": {
    "id": "Ugp-vheE3CqE"
   },
   "outputs": [],
   "source": []
  }
 ],
 "metadata": {
  "colab": {
   "provenance": []
  },
  "kernelspec": {
   "display_name": "Python 3 (ipykernel)",
   "language": "python",
   "name": "python3"
  },
  "language_info": {
   "codemirror_mode": {
    "name": "ipython",
    "version": 3
   },
   "file_extension": ".py",
   "mimetype": "text/x-python",
   "name": "python",
   "nbconvert_exporter": "python",
   "pygments_lexer": "ipython3",
   "version": "3.11.4"
  }
 },
 "nbformat": 4,
 "nbformat_minor": 4
}
